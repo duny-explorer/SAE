{
 "cells": [
  {
   "cell_type": "code",
   "execution_count": 31,
   "metadata": {},
   "outputs": [],
   "source": [
    "import os\n",
    "os.environ['CUDA_VISIBLE_DEVICES'] = '3'\n",
    "\n",
    "import sys\n",
    "sys.path.remove('/home/jovyan/.imgenv-vasilyev-0/lib/python3.7/site-packages')\n",
    "sys.path.append('/home/jovyan/klenitskiy/repos/seqrec-experiments/')\n",
    "sys.path.append('/home/jovyan/klenitskiy/repos/seqrec-datasets')"
   ]
  },
  {
   "cell_type": "code",
   "execution_count": 32,
   "metadata": {},
   "outputs": [],
   "source": [
    "import numpy as np\n",
    "import pandas as pd\n",
    "import pytorch_lightning as pl\n",
    "import torch\n",
    "from pytorch_lightning.callbacks import EarlyStopping, ModelCheckpoint, ModelSummary, RichProgressBar\n",
    "from replay.splitters import ColdUserRandomSplitter, NewUsersSplitter\n",
    "from torch import nn\n",
    "from torch.utils.data import DataLoader\n",
    "from transformers import GPT2Config, GPT2Model\n",
    "\n",
    "from seqrec_experiments.metrics import Evaluator\n",
    "from seqrec_experiments.lightning.datasets import CausalLMDataset, CausalLMPredictionDataset, PaddingCollateFn\n",
    "from seqrec_experiments.lightning.models import GPT4Rec\n",
    "from seqrec_experiments.lightning.modules import SeqRec\n",
    "from seqrec_experiments.postprocess import preds2recs\n",
    "from seqrec_experiments.utils import extract_validation_history\n",
    "\n",
    "from preprocessing.preparation import get_last_item, remove_last_item"
   ]
  },
  {
   "cell_type": "code",
   "execution_count": 33,
   "metadata": {},
   "outputs": [],
   "source": [
    "DATA_PATH = '/home/jovyan/klenitskiy/data/ml-1m/ratings.csv'\n",
    "\n",
    "DATA_SAVE_PATH = 'data/ml-1m'\n",
    "MODEL_SAVE_PATH = 'models/ml-1m'"
   ]
  },
  {
   "cell_type": "markdown",
   "metadata": {},
   "source": [
    "## Prepare data"
   ]
  },
  {
   "cell_type": "code",
   "execution_count": 34,
   "metadata": {},
   "outputs": [
    {
     "name": "stdout",
     "output_type": "stream",
     "text": [
      "(1000209, 4)\n",
      "6040 3706\n"
     ]
    },
    {
     "data": {
      "text/html": [
       "<div>\n",
       "<style scoped>\n",
       "    .dataframe tbody tr th:only-of-type {\n",
       "        vertical-align: middle;\n",
       "    }\n",
       "\n",
       "    .dataframe tbody tr th {\n",
       "        vertical-align: top;\n",
       "    }\n",
       "\n",
       "    .dataframe thead th {\n",
       "        text-align: right;\n",
       "    }\n",
       "</style>\n",
       "<table border=\"1\" class=\"dataframe\">\n",
       "  <thead>\n",
       "    <tr style=\"text-align: right;\">\n",
       "      <th></th>\n",
       "      <th>user_id</th>\n",
       "      <th>item_id</th>\n",
       "      <th>rating</th>\n",
       "      <th>timestamp</th>\n",
       "    </tr>\n",
       "  </thead>\n",
       "  <tbody>\n",
       "    <tr>\n",
       "      <th>0</th>\n",
       "      <td>1</td>\n",
       "      <td>3186</td>\n",
       "      <td>4</td>\n",
       "      <td>978300019.0</td>\n",
       "    </tr>\n",
       "    <tr>\n",
       "      <th>1</th>\n",
       "      <td>1</td>\n",
       "      <td>1270</td>\n",
       "      <td>5</td>\n",
       "      <td>978300055.0</td>\n",
       "    </tr>\n",
       "    <tr>\n",
       "      <th>2</th>\n",
       "      <td>1</td>\n",
       "      <td>1721</td>\n",
       "      <td>4</td>\n",
       "      <td>978300055.0</td>\n",
       "    </tr>\n",
       "    <tr>\n",
       "      <th>3</th>\n",
       "      <td>1</td>\n",
       "      <td>1022</td>\n",
       "      <td>5</td>\n",
       "      <td>978300055.0</td>\n",
       "    </tr>\n",
       "    <tr>\n",
       "      <th>4</th>\n",
       "      <td>1</td>\n",
       "      <td>2340</td>\n",
       "      <td>3</td>\n",
       "      <td>978300103.0</td>\n",
       "    </tr>\n",
       "  </tbody>\n",
       "</table>\n",
       "</div>"
      ],
      "text/plain": [
       "   user_id  item_id  rating    timestamp\n",
       "0        1     3186       4  978300019.0\n",
       "1        1     1270       5  978300055.0\n",
       "2        1     1721       4  978300055.0\n",
       "3        1     1022       5  978300055.0\n",
       "4        1     2340       3  978300103.0"
      ]
     },
     "execution_count": 34,
     "metadata": {},
     "output_type": "execute_result"
    }
   ],
   "source": [
    "df = pd.read_csv(DATA_PATH)\n",
    "df = df.sort_values(['user_id', 'timestamp'])\n",
    "df.timestamp = pd.to_datetime(df.timestamp).astype(int) / 10**9\n",
    "print(df.shape)\n",
    "print(df.user_id.nunique(), df.item_id.nunique())\n",
    "df.head()"
   ]
  },
  {
   "cell_type": "code",
   "execution_count": 37,
   "metadata": {},
   "outputs": [],
   "source": [
    "test_splitter = NewUsersSplitter(\n",
    "    test_size=0.1, drop_cold_items=True, query_column=\"user_id\")\n",
    "train, test = test_splitter.split(df)\n",
    "\n",
    "validation_splitter = ColdUserRandomSplitter(\n",
    "    test_size=0.4, drop_cold_items=True, query_column=\"user_id\", seed=42)\n",
    "train, validation = validation_splitter.split(train)"
   ]
  },
  {
   "cell_type": "code",
   "execution_count": 39,
   "metadata": {},
   "outputs": [
    {
     "name": "stdout",
     "output_type": "stream",
     "text": [
      "(487093, 4) 3262 3597\n",
      "(319903, 4) 2174 3454\n",
      "(91422, 4) 604 3226\n"
     ]
    }
   ],
   "source": [
    "print(train.shape, train.user_id.nunique(), train.item_id.nunique())\n",
    "print(validation.shape, validation.user_id.nunique(), validation.item_id.nunique())\n",
    "print(test.shape, test.user_id.nunique(), test.item_id.nunique())"
   ]
  },
  {
   "cell_type": "code",
   "execution_count": 40,
   "metadata": {},
   "outputs": [
    {
     "name": "stdout",
     "output_type": "stream",
     "text": [
      "2000-04-25 23:05:32 2000-12-04 00:27:56\n",
      "2000-04-25 23:25:58 2000-12-04 00:22:31\n",
      "2000-12-04 00:46:29 2003-02-27 23:31:15\n"
     ]
    }
   ],
   "source": [
    "print(pd.to_datetime(train.timestamp.min(), unit='s'), pd.to_datetime(train.timestamp.max(), unit='s'))\n",
    "print(pd.to_datetime(validation.timestamp.min(), unit='s'), pd.to_datetime(validation.timestamp.max(), unit='s'))\n",
    "print(pd.to_datetime(test.timestamp.min(), unit='s'), pd.to_datetime(test.timestamp.max(), unit='s'))"
   ]
  },
  {
   "cell_type": "code",
   "execution_count": 41,
   "metadata": {},
   "outputs": [],
   "source": [
    "test_inputs = remove_last_item(test)\n",
    "test_last_item = get_last_item(test)"
   ]
  },
  {
   "cell_type": "code",
   "execution_count": 42,
   "metadata": {},
   "outputs": [],
   "source": [
    "train.to_csv(os.path.join(DATA_SAVE_PATH, 'train.csv'), index=False)\n",
    "validation.to_csv(os.path.join(DATA_SAVE_PATH, 'validation.csv'), index=False)\n",
    "test.to_csv(os.path.join(DATA_SAVE_PATH, 'test.csv'), index=False)"
   ]
  },
  {
   "cell_type": "markdown",
   "metadata": {},
   "source": [
    "## Train"
   ]
  },
  {
   "cell_type": "code",
   "execution_count": 53,
   "metadata": {},
   "outputs": [],
   "source": [
    "MAX_LENGTH = 128\n",
    "\n",
    "VALIDATION_SIZE = None\n",
    "\n",
    "BATCH_SIZE = 256\n",
    "TEST_BATCH_SIZE = 256\n",
    "NUM_WORKERS = 8\n",
    "\n",
    "GPT_CONFIG = {\n",
    "    'vocab_size': 2,\n",
    "    'n_positions': 128,\n",
    "    'n_embd': 64,\n",
    "    'n_layer': 2,\n",
    "    'n_head': 2,\n",
    "}\n",
    "\n",
    "TRAINER_PARAMS = {\n",
    "    'max_epochs': 100,\n",
    "    'devices': 1,\n",
    "    'enable_checkpointing': True,\n",
    "}\n",
    "LEARNING_RATE = 1e-3\n",
    "PATIENCE = 10"
   ]
  },
  {
   "cell_type": "code",
   "execution_count": 54,
   "metadata": {},
   "outputs": [
    {
     "name": "stdout",
     "output_type": "stream",
     "text": [
      "torch.Size([256, 128])\n"
     ]
    }
   ],
   "source": [
    "train_dataset = CausalLMDataset(train, max_length=MAX_LENGTH, time_col='timestamp')\n",
    "\n",
    "validation_users = validation.user_id.unique()\n",
    "if VALIDATION_SIZE and (VALIDATION_SIZE < len (validation_users)):\n",
    "    validation_users = np.random.choice(validation_users, size=VALIDATION_SIZE, replace=False)\n",
    "eval_dataset = CausalLMPredictionDataset(validation[validation.user_id.isin(validation_users)],\n",
    "                                         max_length=MAX_LENGTH, validation_mode=True,\n",
    "                                         time_col='timestamp')\n",
    "\n",
    "collate_fn = PaddingCollateFn()\n",
    "\n",
    "train_loader = DataLoader(\n",
    "    train_dataset, batch_size=BATCH_SIZE,\n",
    "    shuffle=True, num_workers=NUM_WORKERS,\n",
    "    collate_fn=PaddingCollateFn())\n",
    "eval_loader = DataLoader(\n",
    "    eval_dataset, batch_size=TEST_BATCH_SIZE,\n",
    "    shuffle=False, num_workers=NUM_WORKERS,\n",
    "    collate_fn=PaddingCollateFn())\n",
    "\n",
    "batch = next(iter(train_loader))\n",
    "print(batch['input_ids'].shape)"
   ]
  },
  {
   "cell_type": "code",
   "execution_count": 55,
   "metadata": {},
   "outputs": [
    {
     "data": {
      "text/plain": [
       "torch.Size([256, 128, 3953])"
      ]
     },
     "execution_count": 55,
     "metadata": {},
     "output_type": "execute_result"
    }
   ],
   "source": [
    "vocab_size = df.item_id.max() + 1\n",
    "\n",
    "model = GPT4Rec(GPT_CONFIG, vocab_size, add_head=True, tie_weights=True)\n",
    "outputs = model(batch['input_ids'], batch['attention_mask'])\n",
    "outputs.shape"
   ]
  },
  {
   "cell_type": "code",
   "execution_count": 56,
   "metadata": {},
   "outputs": [
    {
     "name": "stderr",
     "output_type": "stream",
     "text": [
      "Trainer already configured with model summary callbacks: [<class 'pytorch_lightning.callbacks.model_summary.ModelSummary'>]. Skipping setting a default `ModelSummary` callback.\n",
      "GPU available: True (cuda), used: True\n",
      "TPU available: False, using: 0 TPU cores\n",
      "IPU available: False, using: 0 IPUs\n",
      "HPU available: False, using: 0 HPUs\n",
      "LOCAL_RANK: 0 - CUDA_VISIBLE_DEVICES: [3]\n",
      "\n",
      "   | Name                         | Type       | Params \n",
      "--------------------------------------------------------------\n",
      "0  | model                        | GPT4Rec    | 361 K  \n",
      "1  | model.embed_layer            | Embedding  | 252 K  \n",
      "2  | model.transformer_model      | GPT2Model  | 108 K  \n",
      "3  | model.transformer_model.wte  | Embedding  | 128    \n",
      "4  | model.transformer_model.wpe  | Embedding  | 8.2 K  \n",
      "5  | model.transformer_model.drop | Dropout    | 0      \n",
      "6  | model.transformer_model.h    | ModuleList | 100.0 K\n",
      "7  | model.transformer_model.h.0  | GPT2Block  | 50.0 K \n",
      "8  | model.transformer_model.h.1  | GPT2Block  | 50.0 K \n",
      "9  | model.transformer_model.ln_f | LayerNorm  | 128    \n",
      "10 | model.head                   | Linear     | 252 K  \n",
      "--------------------------------------------------------------\n",
      "361 K     Trainable params\n",
      "0         Non-trainable params\n",
      "361 K     Total params\n",
      "1.446     Total estimated model params size (MB)\n"
     ]
    },
    {
     "data": {
      "application/vnd.jupyter.widget-view+json": {
       "model_id": "7e60a09a714446ccbe831ae66b1e0a92",
       "version_major": 2,
       "version_minor": 0
      },
      "text/plain": [
       "Output()"
      ]
     },
     "metadata": {},
     "output_type": "display_data"
    },
    {
     "data": {
      "text/html": [
       "<pre style=\"white-space:pre;overflow-x:auto;line-height:normal;font-family:Menlo,'DejaVu Sans Mono',consolas,'Courier New',monospace\">/home/jovyan/klenitskiy/envs/klenitskiy_seqrec/lib/python3.9/site-packages/pytorch_lightning/loops/fit_loop.py:298:\n",
       "The number of training batches (13) is smaller than the logging interval Trainer(log_every_n_steps=50). Set a lower\n",
       "value for log_every_n_steps if you want to see logs for the training epoch.\n",
       "</pre>\n"
      ],
      "text/plain": [
       "/home/jovyan/klenitskiy/envs/klenitskiy_seqrec/lib/python3.9/site-packages/pytorch_lightning/loops/fit_loop.py:298:\n",
       "The number of training batches (13) is smaller than the logging interval Trainer(log_every_n_steps=50). Set a lower\n",
       "value for log_every_n_steps if you want to see logs for the training epoch.\n"
      ]
     },
     "metadata": {},
     "output_type": "display_data"
    },
    {
     "data": {
      "text/html": [
       "<pre style=\"white-space:pre;overflow-x:auto;line-height:normal;font-family:Menlo,'DejaVu Sans Mono',consolas,'Courier New',monospace\"></pre>\n"
      ],
      "text/plain": []
     },
     "metadata": {},
     "output_type": "display_data"
    },
    {
     "data": {
      "text/html": [
       "<pre style=\"white-space:pre;overflow-x:auto;line-height:normal;font-family:Menlo,'DejaVu Sans Mono',consolas,'Courier New',monospace\">\n",
       "</pre>\n"
      ],
      "text/plain": [
       "\n"
      ]
     },
     "metadata": {},
     "output_type": "display_data"
    }
   ],
   "source": [
    "seqrec_module = SeqRec(model, lr=LEARNING_RATE, predict_top_k=10)\n",
    "\n",
    "early_stopping = EarlyStopping(monitor=\"val_ndcg\", mode=\"max\", patience=PATIENCE, verbose=False)\n",
    "model_summary = ModelSummary(max_depth=4)\n",
    "checkpoint = ModelCheckpoint(save_top_k=1, monitor=\"val_ndcg\", mode=\"max\", save_weights_only=True)\n",
    "pbar = RichProgressBar()\n",
    "callbacks=[early_stopping, model_summary, checkpoint, pbar]\n",
    "\n",
    "trainer = pl.Trainer(callbacks=callbacks, **TRAINER_PARAMS)\n",
    "\n",
    "trainer.fit(model=seqrec_module,\n",
    "            train_dataloaders=train_loader,\n",
    "            val_dataloaders=eval_loader)"
   ]
  },
  {
   "cell_type": "code",
   "execution_count": 57,
   "metadata": {},
   "outputs": [
    {
     "data": {
      "text/html": [
       "<div>\n",
       "<style scoped>\n",
       "    .dataframe tbody tr th:only-of-type {\n",
       "        vertical-align: middle;\n",
       "    }\n",
       "\n",
       "    .dataframe tbody tr th {\n",
       "        vertical-align: top;\n",
       "    }\n",
       "\n",
       "    .dataframe thead th {\n",
       "        text-align: right;\n",
       "    }\n",
       "</style>\n",
       "<table border=\"1\" class=\"dataframe\">\n",
       "  <thead>\n",
       "    <tr style=\"text-align: right;\">\n",
       "      <th></th>\n",
       "      <th>step</th>\n",
       "      <th>val_ndcg</th>\n",
       "      <th>val_hit_rate</th>\n",
       "      <th>val_mrr</th>\n",
       "      <th>epoch</th>\n",
       "      <th>time</th>\n",
       "    </tr>\n",
       "  </thead>\n",
       "  <tbody>\n",
       "    <tr>\n",
       "      <th>0</th>\n",
       "      <td>12</td>\n",
       "      <td>0.015480</td>\n",
       "      <td>0.031739</td>\n",
       "      <td>0.010698</td>\n",
       "      <td>0.0</td>\n",
       "      <td>0.000000</td>\n",
       "    </tr>\n",
       "    <tr>\n",
       "      <th>1</th>\n",
       "      <td>25</td>\n",
       "      <td>0.019247</td>\n",
       "      <td>0.039098</td>\n",
       "      <td>0.013341</td>\n",
       "      <td>1.0</td>\n",
       "      <td>3.250222</td>\n",
       "    </tr>\n",
       "    <tr>\n",
       "      <th>2</th>\n",
       "      <td>38</td>\n",
       "      <td>0.021209</td>\n",
       "      <td>0.043238</td>\n",
       "      <td>0.014566</td>\n",
       "      <td>2.0</td>\n",
       "      <td>6.586295</td>\n",
       "    </tr>\n",
       "    <tr>\n",
       "      <th>3</th>\n",
       "      <td>51</td>\n",
       "      <td>0.021279</td>\n",
       "      <td>0.044158</td>\n",
       "      <td>0.014380</td>\n",
       "      <td>3.0</td>\n",
       "      <td>9.696048</td>\n",
       "    </tr>\n",
       "    <tr>\n",
       "      <th>4</th>\n",
       "      <td>64</td>\n",
       "      <td>0.024183</td>\n",
       "      <td>0.047378</td>\n",
       "      <td>0.017032</td>\n",
       "      <td>4.0</td>\n",
       "      <td>12.788305</td>\n",
       "    </tr>\n",
       "    <tr>\n",
       "      <th>...</th>\n",
       "      <td>...</td>\n",
       "      <td>...</td>\n",
       "      <td>...</td>\n",
       "      <td>...</td>\n",
       "      <td>...</td>\n",
       "      <td>...</td>\n",
       "    </tr>\n",
       "    <tr>\n",
       "      <th>81</th>\n",
       "      <td>1065</td>\n",
       "      <td>0.162943</td>\n",
       "      <td>0.281969</td>\n",
       "      <td>0.126610</td>\n",
       "      <td>81.0</td>\n",
       "      <td>261.072035</td>\n",
       "    </tr>\n",
       "    <tr>\n",
       "      <th>82</th>\n",
       "      <td>1078</td>\n",
       "      <td>0.164816</td>\n",
       "      <td>0.283809</td>\n",
       "      <td>0.128331</td>\n",
       "      <td>82.0</td>\n",
       "      <td>264.694577</td>\n",
       "    </tr>\n",
       "    <tr>\n",
       "      <th>83</th>\n",
       "      <td>1091</td>\n",
       "      <td>0.162893</td>\n",
       "      <td>0.283349</td>\n",
       "      <td>0.126019</td>\n",
       "      <td>83.0</td>\n",
       "      <td>267.896670</td>\n",
       "    </tr>\n",
       "    <tr>\n",
       "      <th>84</th>\n",
       "      <td>1104</td>\n",
       "      <td>0.163790</td>\n",
       "      <td>0.281049</td>\n",
       "      <td>0.127893</td>\n",
       "      <td>84.0</td>\n",
       "      <td>271.078965</td>\n",
       "    </tr>\n",
       "    <tr>\n",
       "      <th>85</th>\n",
       "      <td>1117</td>\n",
       "      <td>0.162713</td>\n",
       "      <td>0.287488</td>\n",
       "      <td>0.124558</td>\n",
       "      <td>85.0</td>\n",
       "      <td>274.298229</td>\n",
       "    </tr>\n",
       "  </tbody>\n",
       "</table>\n",
       "<p>86 rows × 6 columns</p>\n",
       "</div>"
      ],
      "text/plain": [
       "    step  val_ndcg  val_hit_rate   val_mrr  epoch        time\n",
       "0     12  0.015480      0.031739  0.010698    0.0    0.000000\n",
       "1     25  0.019247      0.039098  0.013341    1.0    3.250222\n",
       "2     38  0.021209      0.043238  0.014566    2.0    6.586295\n",
       "3     51  0.021279      0.044158  0.014380    3.0    9.696048\n",
       "4     64  0.024183      0.047378  0.017032    4.0   12.788305\n",
       "..   ...       ...           ...       ...    ...         ...\n",
       "81  1065  0.162943      0.281969  0.126610   81.0  261.072035\n",
       "82  1078  0.164816      0.283809  0.128331   82.0  264.694577\n",
       "83  1091  0.162893      0.283349  0.126019   83.0  267.896670\n",
       "84  1104  0.163790      0.281049  0.127893   84.0  271.078965\n",
       "85  1117  0.162713      0.287488  0.124558   85.0  274.298229\n",
       "\n",
       "[86 rows x 6 columns]"
      ]
     },
     "metadata": {},
     "output_type": "display_data"
    },
    {
     "data": {
      "text/plain": [
       "<Axes: title={'center': 'GPT4Rec'}, xlabel='epoch'>"
      ]
     },
     "execution_count": 57,
     "metadata": {},
     "output_type": "execute_result"
    },
    {
     "data": {
      "image/png": "[encoded data removed]",
      "text/plain": [
       "<Figure size 1000x400 with 1 Axes>"
      ]
     },
     "metadata": {},
     "output_type": "display_data"
    }
   ],
   "source": [
    "history = extract_validation_history(trainer.logger.experiment.log_dir)\n",
    "display(history)\n",
    "history.set_index('epoch')['val_ndcg'].plot(figsize=(10,4), title='GPT4Rec')"
   ]
  },
  {
   "cell_type": "markdown",
   "metadata": {},
   "source": [
    "## Predict"
   ]
  },
  {
   "cell_type": "code",
   "execution_count": 58,
   "metadata": {},
   "outputs": [
    {
     "name": "stderr",
     "output_type": "stream",
     "text": [
      "/tmp/ipykernel_473025/2883154291.py:1: FutureWarning: You are using `torch.load` with `weights_only=False` (the current default value), which uses the default pickle module implicitly. It is possible to construct malicious pickle data which will execute arbitrary code during unpickling (See https://github.com/pytorch/pytorch/blob/main/SECURITY.md#untrusted-models for more details). In a future release, the default value for `weights_only` will be flipped to `True`. This limits the functions that could be executed during unpickling. Arbitrary objects will no longer be allowed to be loaded via this mode unless they are explicitly allowlisted by the user via `torch.serialization.add_safe_globals`. We recommend you start setting `weights_only=True` for any use case where you don't have full control of the loaded file. Please open an issue on GitHub for any issues related to this experimental feature.\n",
      "  seqrec_module.load_state_dict(torch.load(checkpoint.best_model_path)['state_dict'])\n",
      "LOCAL_RANK: 0 - CUDA_VISIBLE_DEVICES: [3]\n"
     ]
    },
    {
     "data": {
      "application/vnd.jupyter.widget-view+json": {
       "model_id": "9c3b6e894465496a97ab78697a0ffa33",
       "version_major": 2,
       "version_minor": 0
      },
      "text/plain": [
       "Output()"
      ]
     },
     "metadata": {},
     "output_type": "display_data"
    },
    {
     "data": {
      "text/html": [
       "<pre style=\"white-space:pre;overflow-x:auto;line-height:normal;font-family:Menlo,'DejaVu Sans Mono',consolas,'Courier New',monospace\"></pre>\n"
      ],
      "text/plain": []
     },
     "metadata": {},
     "output_type": "display_data"
    },
    {
     "data": {
      "text/html": [
       "<pre style=\"white-space:pre;overflow-x:auto;line-height:normal;font-family:Menlo,'DejaVu Sans Mono',consolas,'Courier New',monospace\">\n",
       "</pre>\n"
      ],
      "text/plain": [
       "\n"
      ]
     },
     "metadata": {},
     "output_type": "display_data"
    },
    {
     "name": "stdout",
     "output_type": "stream",
     "text": [
      "(6040, 3)\n"
     ]
    },
    {
     "data": {
      "text/html": [
       "<div>\n",
       "<style scoped>\n",
       "    .dataframe tbody tr th:only-of-type {\n",
       "        vertical-align: middle;\n",
       "    }\n",
       "\n",
       "    .dataframe tbody tr th {\n",
       "        vertical-align: top;\n",
       "    }\n",
       "\n",
       "    .dataframe thead th {\n",
       "        text-align: right;\n",
       "    }\n",
       "</style>\n",
       "<table border=\"1\" class=\"dataframe\">\n",
       "  <thead>\n",
       "    <tr style=\"text-align: right;\">\n",
       "      <th></th>\n",
       "      <th>user_id</th>\n",
       "      <th>item_id</th>\n",
       "      <th>prediction</th>\n",
       "    </tr>\n",
       "  </thead>\n",
       "  <tbody>\n",
       "    <tr>\n",
       "      <th>0</th>\n",
       "      <td>1</td>\n",
       "      <td>364</td>\n",
       "      <td>8.628982</td>\n",
       "    </tr>\n",
       "    <tr>\n",
       "      <th>1</th>\n",
       "      <td>1</td>\n",
       "      <td>2081</td>\n",
       "      <td>7.262435</td>\n",
       "    </tr>\n",
       "    <tr>\n",
       "      <th>2</th>\n",
       "      <td>1</td>\n",
       "      <td>2087</td>\n",
       "      <td>7.110536</td>\n",
       "    </tr>\n",
       "    <tr>\n",
       "      <th>3</th>\n",
       "      <td>1</td>\n",
       "      <td>1688</td>\n",
       "      <td>7.100200</td>\n",
       "    </tr>\n",
       "    <tr>\n",
       "      <th>4</th>\n",
       "      <td>1</td>\n",
       "      <td>2096</td>\n",
       "      <td>7.005536</td>\n",
       "    </tr>\n",
       "  </tbody>\n",
       "</table>\n",
       "</div>"
      ],
      "text/plain": [
       "   user_id  item_id  prediction\n",
       "0        1      364    8.628982\n",
       "1        1     2081    7.262435\n",
       "2        1     2087    7.110536\n",
       "3        1     1688    7.100200\n",
       "4        1     2096    7.005536"
      ]
     },
     "execution_count": 58,
     "metadata": {},
     "output_type": "execute_result"
    }
   ],
   "source": [
    "seqrec_module.load_state_dict(torch.load(checkpoint.best_model_path)['state_dict'])\n",
    "\n",
    "predict_dataset = CausalLMPredictionDataset(test_inputs, max_length=MAX_LENGTH, time_col='timestamp')\n",
    "\n",
    "predict_loader = DataLoader(\n",
    "    predict_dataset, batch_size=TEST_BATCH_SIZE, shuffle=False,\n",
    "    num_workers=NUM_WORKERS, collate_fn=PaddingCollateFn())\n",
    "\n",
    "preds = trainer.predict(model=seqrec_module, dataloaders=predict_loader)\n",
    "\n",
    "recs = preds2recs(preds)\n",
    "print(recs.shape)\n",
    "recs.head()"
   ]
  },
  {
   "cell_type": "code",
   "execution_count": 59,
   "metadata": {},
   "outputs": [
    {
     "name": "stdout",
     "output_type": "stream",
     "text": [
      "CPU times: user 449 ms, sys: 111 ms, total: 560 ms\n",
      "Wall time: 553 ms\n"
     ]
    },
    {
     "data": {
      "text/plain": [
       "{'map@10': 0.10026542625880375,\n",
       " 'ndcg@10': 0.13627459649037582,\n",
       " 'recall@10': 0.25496688741721857,\n",
       " 'precision@10': 0.02549668874172185,\n",
       " 'coverage@10': 0.388101195440645,\n",
       " 'entropy@10': 9.754812704778685,\n",
       " 'novelty@10': 10.613917270103284}"
      ]
     },
     "execution_count": 59,
     "metadata": {},
     "output_type": "execute_result"
    }
   ],
   "source": [
    "%%time\n",
    "evaluator = Evaluator()\n",
    "metrics = evaluator.compute_metrics(test_last_item, recs, train)\n",
    "metrics"
   ]
  },
  {
   "cell_type": "markdown",
   "metadata": {},
   "source": [
    "## Save"
   ]
  },
  {
   "cell_type": "code",
   "execution_count": 60,
   "metadata": {},
   "outputs": [],
   "source": [
    "# torch.save(seqrec_module.model, os.path.join(MODEL_SAVE_PATH, 'gpt_64_1_1.pt'))\n",
    "# torch.save(seqrec_module.model, os.path.join(MODEL_SAVE_PATH, 'gpt_64_2_2.pt'))"
   ]
  },
  {
   "cell_type": "code",
   "execution_count": 24,
   "metadata": {},
   "outputs": [],
   "source": [
    "# torch.save(seqrec_module.model.state_dict(), os.path.join(MODEL_SAVE_PATH, 'gpt_64_1_1.pt'))"
   ]
  }
 ],
 "metadata": {
  "kernelspec": {
   "display_name": "klenitskiy_seqrec",
   "language": "python",
   "name": "klenitskiy_seqrec"
  },
  "language_info": {
   "codemirror_mode": {
    "name": "ipython",
    "version": 3
   },
   "file_extension": ".py",
   "mimetype": "text/x-python",
   "name": "python",
   "nbconvert_exporter": "python",
   "pygments_lexer": "ipython3",
   "version": "3.9.19"
  }
 },
 "nbformat": 4,
 "nbformat_minor": 4
}
